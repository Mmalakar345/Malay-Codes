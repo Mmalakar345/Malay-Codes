{
 "cells": [
  {
   "cell_type": "markdown",
   "id": "b79ae2f1",
   "metadata": {},
   "source": [
    "# Datatype or Shapes"
   ]
  },
  {
   "cell_type": "code",
   "execution_count": 1,
   "id": "60e190a5",
   "metadata": {},
   "outputs": [
    {
     "name": "stdout",
     "output_type": "stream",
     "text": [
      "[[1 8 5 3 7 4]\n",
      " [5 8 3 7 1 6]]\n",
      "<class 'numpy.ndarray'>\n"
     ]
    }
   ],
   "source": [
    "import numpy as np\n",
    "array1 = np.array([[1,8,5,3,7,4],[5,8,3,7,1,6]])\n",
    "print(array1)\n",
    "print(type(array1))"
   ]
  },
  {
   "cell_type": "code",
   "execution_count": 2,
   "id": "2866563a",
   "metadata": {},
   "outputs": [
    {
     "data": {
      "text/plain": [
       "(2, 6)"
      ]
     },
     "execution_count": 2,
     "metadata": {},
     "output_type": "execute_result"
    }
   ],
   "source": [
    "array1.shape"
   ]
  },
  {
   "cell_type": "code",
   "execution_count": 3,
   "id": "6bae3559",
   "metadata": {},
   "outputs": [
    {
     "data": {
      "text/plain": [
       "dtype('int32')"
      ]
     },
     "execution_count": 3,
     "metadata": {},
     "output_type": "execute_result"
    }
   ],
   "source": [
    "array1.dtype"
   ]
  },
  {
   "cell_type": "code",
   "execution_count": 4,
   "id": "1dc26f07",
   "metadata": {},
   "outputs": [],
   "source": [
    "# when get help .typr in google \" numpy docomentation\", \"numpy atribute\""
   ]
  },
  {
   "cell_type": "code",
   "execution_count": 5,
   "id": "54bef9c5",
   "metadata": {},
   "outputs": [
    {
     "name": "stdout",
     "output_type": "stream",
     "text": [
      "[0.5 5.  3.  7.  9.  5.  1.4]\n"
     ]
    }
   ],
   "source": [
    "arr2 = np.array([0.5,5,3,7,9,5,1.4])\n",
    "print(arr2)"
   ]
  },
  {
   "cell_type": "code",
   "execution_count": 6,
   "id": "6126b07a",
   "metadata": {},
   "outputs": [
    {
     "data": {
      "text/plain": [
       "dtype('float64')"
      ]
     },
     "execution_count": 6,
     "metadata": {},
     "output_type": "execute_result"
    }
   ],
   "source": [
    "arr2.dtype"
   ]
  },
  {
   "cell_type": "code",
   "execution_count": 7,
   "id": "d310528f",
   "metadata": {},
   "outputs": [
    {
     "name": "stdout",
     "output_type": "stream",
     "text": [
      "[0 5 3 7 9 5 1]\n"
     ]
    }
   ],
   "source": [
    "arr3 = np.array([0.5,5,3,7,9,5,1.4], dtype='int32')\n",
    "print(arr3)"
   ]
  },
  {
   "cell_type": "code",
   "execution_count": 8,
   "id": "86b4250a",
   "metadata": {},
   "outputs": [
    {
     "data": {
      "text/plain": [
       "dtype('int32')"
      ]
     },
     "execution_count": 8,
     "metadata": {},
     "output_type": "execute_result"
    }
   ],
   "source": [
    "arr3.dtype"
   ]
  },
  {
   "cell_type": "markdown",
   "id": "275e604a",
   "metadata": {},
   "source": [
    "# Blank garage"
   ]
  },
  {
   "cell_type": "code",
   "execution_count": 9,
   "id": "f40fbb76",
   "metadata": {},
   "outputs": [
    {
     "data": {
      "text/plain": [
       "array([0., 0., 0., 0., 0.])"
      ]
     },
     "execution_count": 9,
     "metadata": {},
     "output_type": "execute_result"
    }
   ],
   "source": [
    "np.zeros(5)"
   ]
  },
  {
   "cell_type": "code",
   "execution_count": 10,
   "id": "bc29dff6",
   "metadata": {},
   "outputs": [
    {
     "data": {
      "text/plain": [
       "array([[0., 0., 0., 0., 0., 0.],\n",
       "       [0., 0., 0., 0., 0., 0.],\n",
       "       [0., 0., 0., 0., 0., 0.],\n",
       "       [0., 0., 0., 0., 0., 0.]])"
      ]
     },
     "execution_count": 10,
     "metadata": {},
     "output_type": "execute_result"
    }
   ],
   "source": [
    "np.zeros((4,6))"
   ]
  },
  {
   "cell_type": "code",
   "execution_count": 11,
   "id": "381e9170",
   "metadata": {},
   "outputs": [
    {
     "data": {
      "text/plain": [
       "array([1., 1., 1., 1., 1., 1.])"
      ]
     },
     "execution_count": 11,
     "metadata": {},
     "output_type": "execute_result"
    }
   ],
   "source": [
    "np.ones(6)"
   ]
  },
  {
   "cell_type": "code",
   "execution_count": 12,
   "id": "d05d1a16",
   "metadata": {},
   "outputs": [
    {
     "data": {
      "text/plain": [
       "dtype('float64')"
      ]
     },
     "execution_count": 12,
     "metadata": {},
     "output_type": "execute_result"
    }
   ],
   "source": [
    "np.ones(6).dtype"
   ]
  },
  {
   "cell_type": "code",
   "execution_count": 13,
   "id": "e9438342",
   "metadata": {},
   "outputs": [],
   "source": [
    "# khub choto data loss na hobar jonno float data type prefer kore"
   ]
  },
  {
   "cell_type": "markdown",
   "id": "76d2a94f",
   "metadata": {},
   "source": [
    "# Empty"
   ]
  },
  {
   "cell_type": "code",
   "execution_count": 14,
   "id": "57c25cbc",
   "metadata": {},
   "outputs": [
    {
     "data": {
      "text/plain": [
       "array([[0., 0., 0., 0., 0., 0.],\n",
       "       [0., 0., 0., 0., 0., 0.],\n",
       "       [0., 0., 0., 0., 0., 0.],\n",
       "       [0., 0., 0., 0., 0., 0.]])"
      ]
     },
     "execution_count": 14,
     "metadata": {},
     "output_type": "execute_result"
    }
   ],
   "source": [
    "np.empty((4,6))"
   ]
  },
  {
   "cell_type": "code",
   "execution_count": 15,
   "id": "934b1878",
   "metadata": {},
   "outputs": [],
   "source": [
    "# dekhte zeros((4,6)) er moton lagleo smae noy, empty koele just show koray 0 but value onno kisu o hote parei,\n",
    "# kono ekta 0 memory location allocate kore.\n",
    "# zeros((4,6)) sob value gulo keo 0 hote badho kore"
   ]
  },
  {
   "cell_type": "markdown",
   "id": "cd53a7f4",
   "metadata": {},
   "source": [
    "# Calculations"
   ]
  },
  {
   "cell_type": "code",
   "execution_count": 16,
   "id": "bc3dd730",
   "metadata": {},
   "outputs": [
    {
     "data": {
      "text/plain": [
       "array([[1, 8, 5, 3, 7, 4],\n",
       "       [5, 8, 3, 7, 1, 6]])"
      ]
     },
     "execution_count": 16,
     "metadata": {},
     "output_type": "execute_result"
    }
   ],
   "source": [
    "array1"
   ]
  },
  {
   "cell_type": "code",
   "execution_count": 17,
   "id": "f0fb36b4",
   "metadata": {},
   "outputs": [],
   "source": [
    "# not matrix multiplication . it is a elements wise multiplecatioin"
   ]
  },
  {
   "cell_type": "code",
   "execution_count": 18,
   "id": "1c859d73",
   "metadata": {},
   "outputs": [
    {
     "data": {
      "text/plain": [
       "array([[ 1, 64, 25,  9, 49, 16],\n",
       "       [25, 64,  9, 49,  1, 36]])"
      ]
     },
     "execution_count": 18,
     "metadata": {},
     "output_type": "execute_result"
    }
   ],
   "source": [
    "array1*array1"
   ]
  },
  {
   "cell_type": "code",
   "execution_count": 19,
   "id": "c719efd8",
   "metadata": {},
   "outputs": [
    {
     "data": {
      "text/plain": [
       "array([[ 2, 16, 10,  6, 14,  8],\n",
       "       [10, 16,  6, 14,  2, 12]])"
      ]
     },
     "execution_count": 19,
     "metadata": {},
     "output_type": "execute_result"
    }
   ],
   "source": [
    "array1+array1"
   ]
  },
  {
   "cell_type": "code",
   "execution_count": 20,
   "id": "4040cc39",
   "metadata": {},
   "outputs": [
    {
     "data": {
      "text/plain": [
       "array([[       1, 16777216,     3125,       27,   823543,      256],\n",
       "       [    3125, 16777216,       27,   823543,        1,    46656]])"
      ]
     },
     "execution_count": 20,
     "metadata": {},
     "output_type": "execute_result"
    }
   ],
   "source": [
    "array1**array1"
   ]
  },
  {
   "cell_type": "code",
   "execution_count": 21,
   "id": "6c70476d",
   "metadata": {},
   "outputs": [
    {
     "data": {
      "text/plain": [
       "array([[1., 1., 1., 1., 1., 1.],\n",
       "       [1., 1., 1., 1., 1., 1.]])"
      ]
     },
     "execution_count": 21,
     "metadata": {},
     "output_type": "execute_result"
    }
   ],
   "source": [
    "array1/array1"
   ]
  },
  {
   "cell_type": "code",
   "execution_count": 22,
   "id": "3eaf37ab",
   "metadata": {},
   "outputs": [
    {
     "data": {
      "text/plain": [
       "8916100448256.0"
      ]
     },
     "execution_count": 22,
     "metadata": {},
     "output_type": "execute_result"
    }
   ],
   "source": [
    "12.0**12"
   ]
  },
  {
   "cell_type": "code",
   "execution_count": 23,
   "id": "6b88dd6f",
   "metadata": {},
   "outputs": [
    {
     "data": {
      "text/plain": [
       "array([8.91610045e+12])"
      ]
     },
     "execution_count": 23,
     "metadata": {},
     "output_type": "execute_result"
    }
   ],
   "source": [
    "np.array([12.0**12])"
   ]
  },
  {
   "cell_type": "code",
   "execution_count": 24,
   "id": "8ad23c68",
   "metadata": {},
   "outputs": [
    {
     "ename": "OverflowError",
     "evalue": "Python int too large to convert to C long",
     "output_type": "error",
     "traceback": [
      "\u001b[1;31m---------------------------------------------------------------------------\u001b[0m",
      "\u001b[1;31mOverflowError\u001b[0m                             Traceback (most recent call last)",
      "Input \u001b[1;32mIn [24]\u001b[0m, in \u001b[0;36m<cell line: 1>\u001b[1;34m()\u001b[0m\n\u001b[1;32m----> 1\u001b[0m \u001b[43mnp\u001b[49m\u001b[38;5;241;43m.\u001b[39;49m\u001b[43marray\u001b[49m\u001b[43m(\u001b[49m\u001b[43m[\u001b[49m\u001b[38;5;241;43m12.0\u001b[39;49m\u001b[38;5;241;43m*\u001b[39;49m\u001b[38;5;241;43m*\u001b[39;49m\u001b[38;5;241;43m12\u001b[39;49m\u001b[43m]\u001b[49m\u001b[43m,\u001b[49m\u001b[43m \u001b[49m\u001b[43mdtype\u001b[49m\u001b[38;5;241;43m=\u001b[39;49m\u001b[38;5;124;43m'\u001b[39;49m\u001b[38;5;124;43mint32\u001b[39;49m\u001b[38;5;124;43m'\u001b[39;49m\u001b[43m)\u001b[49m\n",
      "\u001b[1;31mOverflowError\u001b[0m: Python int too large to convert to C long"
     ]
    }
   ],
   "source": [
    "np.array([12.0**12], dtype='int32')  # syntex hisabe value thik noy tai error"
   ]
  },
  {
   "cell_type": "markdown",
   "id": "6f24a6d2",
   "metadata": {},
   "source": [
    "## Slicing"
   ]
  },
  {
   "cell_type": "code",
   "execution_count": 25,
   "id": "4740c911",
   "metadata": {},
   "outputs": [
    {
     "data": {
      "text/plain": [
       "array([[1, 8, 5, 3, 7, 4],\n",
       "       [5, 8, 3, 7, 1, 6]])"
      ]
     },
     "execution_count": 25,
     "metadata": {},
     "output_type": "execute_result"
    }
   ],
   "source": [
    "array1"
   ]
  },
  {
   "cell_type": "code",
   "execution_count": 26,
   "id": "1900cfac",
   "metadata": {},
   "outputs": [
    {
     "ename": "SyntaxError",
     "evalue": "invalid syntax (3509829551.py, line 1)",
     "output_type": "error",
     "traceback": [
      "\u001b[1;36m  Input \u001b[1;32mIn [26]\u001b[1;36m\u001b[0m\n\u001b[1;33m    array(4:6)\u001b[0m\n\u001b[1;37m           ^\u001b[0m\n\u001b[1;31mSyntaxError\u001b[0m\u001b[1;31m:\u001b[0m invalid syntax\n"
     ]
    }
   ],
   "source": [
    "array(4:6)"
   ]
  },
  {
   "cell_type": "code",
   "execution_count": 27,
   "id": "faad8837",
   "metadata": {},
   "outputs": [],
   "source": [
    "array5 = np.array([5,8,3,6,7,19,4])"
   ]
  },
  {
   "cell_type": "code",
   "execution_count": 28,
   "id": "0fd9a953",
   "metadata": {},
   "outputs": [
    {
     "data": {
      "text/plain": [
       "array([ 6,  7, 19])"
      ]
     },
     "execution_count": 28,
     "metadata": {},
     "output_type": "execute_result"
    }
   ],
   "source": [
    "array5[3:6]"
   ]
  },
  {
   "cell_type": "code",
   "execution_count": 29,
   "id": "006ae921",
   "metadata": {},
   "outputs": [],
   "source": [
    "new = array5[3:6]"
   ]
  },
  {
   "cell_type": "code",
   "execution_count": 30,
   "id": "49d685a7",
   "metadata": {},
   "outputs": [
    {
     "data": {
      "text/plain": [
       "array([ 6,  7, 19])"
      ]
     },
     "execution_count": 30,
     "metadata": {},
     "output_type": "execute_result"
    }
   ],
   "source": [
    "new"
   ]
  },
  {
   "cell_type": "code",
   "execution_count": 31,
   "id": "bb269620",
   "metadata": {},
   "outputs": [],
   "source": [
    "new[0]= 75"
   ]
  },
  {
   "cell_type": "code",
   "execution_count": 32,
   "id": "3045e32c",
   "metadata": {},
   "outputs": [
    {
     "data": {
      "text/plain": [
       "array([ 5,  8,  3, 75,  7, 19,  4])"
      ]
     },
     "execution_count": 32,
     "metadata": {},
     "output_type": "execute_result"
    }
   ],
   "source": [
    "array5"
   ]
  },
  {
   "cell_type": "code",
   "execution_count": 33,
   "id": "fdf76b56",
   "metadata": {},
   "outputs": [],
   "source": [
    "# er reason ta khub e simple new arraay ta chilo array 5 er vitor , taai new2w 0 change korate array 5 er middle a 5 adda holo\n",
    "# memory location \"new\" array er and array5 er [6,7,19] same memory location a ache tai emon hosche "
   ]
  },
  {
   "cell_type": "code",
   "execution_count": 34,
   "id": "8a1ae9f4",
   "metadata": {},
   "outputs": [],
   "source": [
    "# Same "
   ]
  },
  {
   "cell_type": "code",
   "execution_count": 35,
   "id": "3e5db428",
   "metadata": {},
   "outputs": [],
   "source": [
    "array6 = np.array([5,8,3,6,7,19,4])"
   ]
  },
  {
   "cell_type": "code",
   "execution_count": 36,
   "id": "fa048879",
   "metadata": {},
   "outputs": [],
   "source": [
    "new2 = array6[3:6].copy()"
   ]
  },
  {
   "cell_type": "code",
   "execution_count": 37,
   "id": "37a82b2c",
   "metadata": {},
   "outputs": [
    {
     "data": {
      "text/plain": [
       "array([ 6,  7, 19])"
      ]
     },
     "execution_count": 37,
     "metadata": {},
     "output_type": "execute_result"
    }
   ],
   "source": [
    "new2"
   ]
  },
  {
   "cell_type": "code",
   "execution_count": 38,
   "id": "5c51874c",
   "metadata": {},
   "outputs": [],
   "source": [
    "new2[0]= 70"
   ]
  },
  {
   "cell_type": "code",
   "execution_count": 39,
   "id": "70a1b0e2",
   "metadata": {},
   "outputs": [
    {
     "data": {
      "text/plain": [
       "array([ 5,  8,  3,  6,  7, 19,  4])"
      ]
     },
     "execution_count": 39,
     "metadata": {},
     "output_type": "execute_result"
    }
   ],
   "source": [
    "array6"
   ]
  },
  {
   "cell_type": "code",
   "execution_count": 40,
   "id": "fb68d218",
   "metadata": {},
   "outputs": [],
   "source": [
    "# .copy()   use korar jonno memory location chage hoye ggeche tai ager tar moto holo na"
   ]
  },
  {
   "cell_type": "code",
   "execution_count": 41,
   "id": "bb432acb",
   "metadata": {},
   "outputs": [
    {
     "data": {
      "text/plain": [
       "array([70,  7, 19])"
      ]
     },
     "execution_count": 41,
     "metadata": {},
     "output_type": "execute_result"
    }
   ],
   "source": [
    "new2"
   ]
  },
  {
   "cell_type": "code",
   "execution_count": 42,
   "id": "3d1c4adc",
   "metadata": {},
   "outputs": [],
   "source": [
    "# sudhu ne2 tai bodleche "
   ]
  },
  {
   "cell_type": "code",
   "execution_count": null,
   "id": "bcee8079",
   "metadata": {},
   "outputs": [],
   "source": []
  },
  {
   "cell_type": "code",
   "execution_count": 43,
   "id": "ce7d7e15",
   "metadata": {},
   "outputs": [
    {
     "data": {
      "text/plain": [
       "array([[1, 8, 5, 3, 7, 4],\n",
       "       [5, 8, 3, 7, 1, 6]])"
      ]
     },
     "execution_count": 43,
     "metadata": {},
     "output_type": "execute_result"
    }
   ],
   "source": [
    "array1"
   ]
  },
  {
   "cell_type": "code",
   "execution_count": 44,
   "id": "c67c9292",
   "metadata": {},
   "outputs": [
    {
     "data": {
      "text/plain": [
       "array([1, 8, 5, 3, 7, 4])"
      ]
     },
     "execution_count": 44,
     "metadata": {},
     "output_type": "execute_result"
    }
   ],
   "source": [
    "array1[0]"
   ]
  },
  {
   "cell_type": "code",
   "execution_count": 45,
   "id": "6a6255bc",
   "metadata": {},
   "outputs": [
    {
     "data": {
      "text/plain": [
       "3"
      ]
     },
     "execution_count": 45,
     "metadata": {},
     "output_type": "execute_result"
    }
   ],
   "source": [
    "array1[0,3]"
   ]
  }
 ],
 "metadata": {
  "kernelspec": {
   "display_name": "Python 3 (ipykernel)",
   "language": "python",
   "name": "python3"
  },
  "language_info": {
   "codemirror_mode": {
    "name": "ipython",
    "version": 3
   },
   "file_extension": ".py",
   "mimetype": "text/x-python",
   "name": "python",
   "nbconvert_exporter": "python",
   "pygments_lexer": "ipython3",
   "version": "3.10.4"
  }
 },
 "nbformat": 4,
 "nbformat_minor": 5
}
