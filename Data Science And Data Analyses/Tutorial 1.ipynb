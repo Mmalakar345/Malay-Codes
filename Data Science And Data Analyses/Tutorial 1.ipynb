{
 "cells": [
  {
   "cell_type": "markdown",
   "id": "f098e3f4",
   "metadata": {},
   "source": [
    "# Normal Python"
   ]
  },
  {
   "cell_type": "code",
   "execution_count": 1,
   "id": "37d67bb5",
   "metadata": {},
   "outputs": [
    {
     "name": "stdout",
     "output_type": "stream",
     "text": [
      "[1, 2, 3, 5, 9, 7, 6]\n"
     ]
    }
   ],
   "source": [
    "list1 = [1,2,3,5,9,7,6]\n",
    "print(list1)\n",
    "# normal python"
   ]
  },
  {
   "cell_type": "markdown",
   "id": "2b4d3368",
   "metadata": {},
   "source": [
    "# Numpy"
   ]
  },
  {
   "cell_type": "code",
   "execution_count": 2,
   "id": "e95dd08f",
   "metadata": {},
   "outputs": [],
   "source": [
    "import numpy as np"
   ]
  },
  {
   "cell_type": "code",
   "execution_count": 3,
   "id": "7292ffcd",
   "metadata": {},
   "outputs": [],
   "source": [
    "arr = np.arange(1000000)"
   ]
  },
  {
   "cell_type": "code",
   "execution_count": 4,
   "id": "f8c556a3",
   "metadata": {},
   "outputs": [],
   "source": [
    "pythonlist=list(range(1000000))"
   ]
  },
  {
   "cell_type": "markdown",
   "id": "c68a12b8",
   "metadata": {},
   "source": [
    "## use python and show time distance "
   ]
  },
  {
   "cell_type": "code",
   "execution_count": 6,
   "id": "2cebbcfa",
   "metadata": {},
   "outputs": [
    {
     "name": "stdout",
     "output_type": "stream",
     "text": [
      "CPU times: total: 750 ms\n",
      "Wall time: 822 ms\n"
     ]
    }
   ],
   "source": [
    "%time for _ in range(10): [item*3 for item in pythonlist]"
   ]
  },
  {
   "cell_type": "markdown",
   "id": "250cc872",
   "metadata": {},
   "source": [
    "## use numpy and show time distance "
   ]
  },
  {
   "cell_type": "code",
   "execution_count": 7,
   "id": "040a66da",
   "metadata": {},
   "outputs": [
    {
     "name": "stdout",
     "output_type": "stream",
     "text": [
      "CPU times: total: 15.6 ms\n",
      "Wall time: 26.9 ms\n"
     ]
    }
   ],
   "source": [
    "%time for _ in range(10): arr = arr*3"
   ]
  },
  {
   "cell_type": "code",
   "execution_count": 10,
   "id": "40729f86",
   "metadata": {},
   "outputs": [
    {
     "data": {
      "text/plain": [
       "array([ 5, -5, -6,  7,  6, -9,  1,  0])"
      ]
     },
     "execution_count": 10,
     "metadata": {},
     "output_type": "execute_result"
    }
   ],
   "source": [
    "np.array([5,-5,-6,7,6,-9,1,0])"
   ]
  },
  {
   "cell_type": "markdown",
   "id": "2b1864e8",
   "metadata": {},
   "source": [
    "# never use  \" from numpy import *  \" "
   ]
  },
  {
   "cell_type": "code",
   "execution_count": null,
   "id": "8785d1e2",
   "metadata": {},
   "outputs": [],
   "source": []
  }
 ],
 "metadata": {
  "kernelspec": {
   "display_name": "Python 3 (ipykernel)",
   "language": "python",
   "name": "python3"
  },
  "language_info": {
   "codemirror_mode": {
    "name": "ipython",
    "version": 3
   },
   "file_extension": ".py",
   "mimetype": "text/x-python",
   "name": "python",
   "nbconvert_exporter": "python",
   "pygments_lexer": "ipython3",
   "version": "3.10.4"
  }
 },
 "nbformat": 4,
 "nbformat_minor": 5
}
