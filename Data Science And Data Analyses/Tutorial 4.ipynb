{
 "cells": [
  {
   "cell_type": "markdown",
   "id": "20296fb5",
   "metadata": {},
   "source": [
    "# Numpy arange, Argsort & Other Tips"
   ]
  },
  {
   "cell_type": "code",
   "execution_count": 1,
   "id": "6e09fb20",
   "metadata": {},
   "outputs": [],
   "source": [
    "import numpy as np"
   ]
  },
  {
   "cell_type": "markdown",
   "id": "759269e7",
   "metadata": {},
   "source": [
    "# arange"
   ]
  },
  {
   "cell_type": "code",
   "execution_count": 2,
   "id": "7523c70c",
   "metadata": {},
   "outputs": [],
   "source": [
    "a = np.arange(10)"
   ]
  },
  {
   "cell_type": "code",
   "execution_count": 3,
   "id": "1e594290",
   "metadata": {},
   "outputs": [],
   "source": [
    "b = np.arange(1,11)"
   ]
  },
  {
   "cell_type": "code",
   "execution_count": 4,
   "id": "c5a95d4d",
   "metadata": {},
   "outputs": [
    {
     "data": {
      "text/plain": [
       "array([0, 1, 2, 3, 4, 5, 6, 7, 8, 9])"
      ]
     },
     "execution_count": 4,
     "metadata": {},
     "output_type": "execute_result"
    }
   ],
   "source": [
    "a"
   ]
  },
  {
   "cell_type": "code",
   "execution_count": 5,
   "id": "b157c1ec",
   "metadata": {},
   "outputs": [
    {
     "data": {
      "text/plain": [
       "array([ 1,  2,  3,  4,  5,  6,  7,  8,  9, 10])"
      ]
     },
     "execution_count": 5,
     "metadata": {},
     "output_type": "execute_result"
    }
   ],
   "source": [
    "b"
   ]
  },
  {
   "cell_type": "markdown",
   "id": "63b496d5",
   "metadata": {},
   "source": [
    "# argsort"
   ]
  },
  {
   "cell_type": "code",
   "execution_count": 6,
   "id": "50c0bf57",
   "metadata": {},
   "outputs": [
    {
     "data": {
      "text/plain": [
       "(24,)"
      ]
     },
     "execution_count": 6,
     "metadata": {},
     "output_type": "execute_result"
    }
   ],
   "source": [
    "#Example 1\n",
    "c = np.array([1,2,5,3,4,6,9,7,8,2,56,6,21,56,456,2,6,5,53,3,41,6,84,93])\n",
    "c.shape"
   ]
  },
  {
   "cell_type": "code",
   "execution_count": 7,
   "id": "2ab72a88",
   "metadata": {},
   "outputs": [
    {
     "data": {
      "text/plain": [
       "array([[  1,   2,   5,   3],\n",
       "       [  4,   6,   9,   7],\n",
       "       [  8,   2,  56,   6],\n",
       "       [ 21,  56, 456,   2],\n",
       "       [  6,   5,  53,   3],\n",
       "       [ 41,   6,  84,  93]])"
      ]
     },
     "execution_count": 7,
     "metadata": {},
     "output_type": "execute_result"
    }
   ],
   "source": [
    "c = c.reshape(6,4)\n",
    "c\n"
   ]
  },
  {
   "cell_type": "code",
   "execution_count": 8,
   "id": "3f86cf6b",
   "metadata": {},
   "outputs": [
    {
     "data": {
      "text/plain": [
       "array([[  1,   2,   5,   3,   4,   6],\n",
       "       [  9,   7,   8,   2,  56,   6],\n",
       "       [ 21,  56, 456,   2,   6,   5],\n",
       "       [ 53,   3,  41,   6,  84,  93]])"
      ]
     },
     "execution_count": 8,
     "metadata": {},
     "output_type": "execute_result"
    }
   ],
   "source": [
    "c = c.reshape(4,6)\n",
    "c"
   ]
  },
  {
   "cell_type": "code",
   "execution_count": 9,
   "id": "b06e670f",
   "metadata": {},
   "outputs": [
    {
     "data": {
      "text/plain": [
       "array([[  1,   2,   5,   3,   4,   6,   9,   7],\n",
       "       [  8,   2,  56,   6,  21,  56, 456,   2],\n",
       "       [  6,   5,  53,   3,  41,   6,  84,  93]])"
      ]
     },
     "execution_count": 9,
     "metadata": {},
     "output_type": "execute_result"
    }
   ],
   "source": [
    "c = c.reshape(3,8)\n",
    "c"
   ]
  },
  {
   "cell_type": "code",
   "execution_count": 10,
   "id": "d8cbe2f2",
   "metadata": {},
   "outputs": [],
   "source": [
    "#Example 2"
   ]
  },
  {
   "cell_type": "code",
   "execution_count": 11,
   "id": "4e86541f",
   "metadata": {},
   "outputs": [
    {
     "data": {
      "text/plain": [
       "array([ 4, 12, 16, 14,  0, 18, 13,  9, 10,  6,  2,  3,  1,  7, 17, 15,  5,\n",
       "        8, 19, 20, 11], dtype=int64)"
      ]
     },
     "execution_count": 11,
     "metadata": {},
     "output_type": "execute_result"
    }
   ],
   "source": [
    "c = np.array([6,9,7,8,2,56,6,21,57,6,6,456,2,6,5,53,3,41,6,84,93])\n",
    "np.argsort(c) # index wise sorting"
   ]
  },
  {
   "cell_type": "code",
   "execution_count": 12,
   "id": "78c5ff4b",
   "metadata": {},
   "outputs": [
    {
     "data": {
      "text/plain": [
       "4"
      ]
     },
     "execution_count": 12,
     "metadata": {},
     "output_type": "execute_result"
    }
   ],
   "source": [
    "np.argmin(c)"
   ]
  },
  {
   "cell_type": "code",
   "execution_count": 13,
   "id": "ab6ad18b",
   "metadata": {},
   "outputs": [
    {
     "data": {
      "text/plain": [
       "11"
      ]
     },
     "execution_count": 13,
     "metadata": {},
     "output_type": "execute_result"
    }
   ],
   "source": [
    "np.argmax(c)"
   ]
  },
  {
   "cell_type": "code",
   "execution_count": 14,
   "id": "d3b50969",
   "metadata": {},
   "outputs": [],
   "source": [
    "#Example 3"
   ]
  },
  {
   "cell_type": "code",
   "execution_count": 15,
   "id": "44b34c5b",
   "metadata": {},
   "outputs": [
    {
     "data": {
      "text/plain": [
       "array([[  6,   9,   7,   8],\n",
       "       [  2,  56,   6,  21],\n",
       "       [ 57,   6,   6, 456],\n",
       "       [  2,   6,   5,  53],\n",
       "       [  3,  41,   6,  84],\n",
       "       [ 93,  45,  33,  37]])"
      ]
     },
     "execution_count": 15,
     "metadata": {},
     "output_type": "execute_result"
    }
   ],
   "source": [
    "d = np.array([6,9,7,8,2,56,6,21,57,6,6,456,2,6,5,53,3,41,6,84,93,45,33,37])\n",
    "d = d.reshape(6,4)\n",
    "#d.shape\n",
    "d"
   ]
  },
  {
   "cell_type": "code",
   "execution_count": 16,
   "id": "fc5732f0",
   "metadata": {},
   "outputs": [
    {
     "data": {
      "text/plain": [
       "array([[0, 2, 3, 1],\n",
       "       [0, 2, 3, 1],\n",
       "       [1, 2, 0, 3],\n",
       "       [0, 2, 1, 3],\n",
       "       [0, 2, 1, 3],\n",
       "       [2, 3, 1, 0]], dtype=int64)"
      ]
     },
     "execution_count": 16,
     "metadata": {},
     "output_type": "execute_result"
    }
   ],
   "source": [
    "np.argsort(d)"
   ]
  },
  {
   "cell_type": "code",
   "execution_count": 17,
   "id": "f3668f0c",
   "metadata": {},
   "outputs": [
    {
     "data": {
      "text/plain": [
       "array([[1, 2, 3, 0],\n",
       "       [3, 3, 1, 1],\n",
       "       [4, 0, 2, 5],\n",
       "       [0, 4, 4, 3],\n",
       "       [2, 5, 0, 4],\n",
       "       [5, 1, 5, 2]], dtype=int64)"
      ]
     },
     "execution_count": 17,
     "metadata": {},
     "output_type": "execute_result"
    }
   ],
   "source": [
    "np.argsort(d,axis=0)"
   ]
  },
  {
   "cell_type": "code",
   "execution_count": null,
   "id": "3f86e6f3",
   "metadata": {},
   "outputs": [],
   "source": []
  }
 ],
 "metadata": {
  "kernelspec": {
   "display_name": "Python 3 (ipykernel)",
   "language": "python",
   "name": "python3"
  },
  "language_info": {
   "codemirror_mode": {
    "name": "ipython",
    "version": 3
   },
   "file_extension": ".py",
   "mimetype": "text/x-python",
   "name": "python",
   "nbconvert_exporter": "python",
   "pygments_lexer": "ipython3",
   "version": "3.10.4"
  }
 },
 "nbformat": 4,
 "nbformat_minor": 5
}
